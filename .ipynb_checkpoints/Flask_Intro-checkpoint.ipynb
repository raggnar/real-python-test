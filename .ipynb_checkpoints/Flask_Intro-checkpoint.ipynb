{
 "metadata": {
  "name": "",
  "signature": "sha256:0fc4768350b1a58889aedc65c92c911016d1a3c95e58140e2e60056d93b84137"
 },
 "nbformat": 3,
 "nbformat_minor": 0,
 "worksheets": [
  {
   "cells": [
    {
     "cell_type": "markdown",
     "metadata": {},
     "source": [
      "Flask Hello World"
     ]
    },
    {
     "cell_type": "code",
     "collapsed": false,
     "input": [
      "from flask import Flask"
     ],
     "language": "python",
     "metadata": {},
     "outputs": [],
     "prompt_number": 1
    },
    {
     "cell_type": "code",
     "collapsed": false,
     "input": [
      "app = Flask(__name__)"
     ],
     "language": "python",
     "metadata": {},
     "outputs": [],
     "prompt_number": 2
    },
    {
     "cell_type": "code",
     "collapsed": false,
     "input": [
      "@app.route(\"/\")\n",
      "@app.route(\"/hello\")\n",
      "def hello_world():\n",
      "    return \"Hello World!\"\n",
      "\n",
      "\n",
      "# dynamic route\n",
      "@app.route(\"/test/<search_query>\")\n",
      "def search(search_query):\n",
      "    return search_query\n",
      "\n",
      "'''Flask converters:\n",
      ".<value> is treated as unicode\n",
      ".<int:value> is treated as an integer\n",
      ".<float:value> is treated as  floting point\n",
      ".<path/of/some/sort> is treated as a path'''\n",
      "\n",
      "@app.route(\"/integer/<int:value>\")\n",
      "def int_type(value):\n",
      "    print value + 1\n",
      "    return \"correct\"\n",
      "\n",
      "@app.route(\"/float/<float:value>\")\n",
      "def float_type(value):\n",
      "    print value + 1\n",
      "    return \"correct\"\n",
      "  \n",
      "# dynamic route that accepts slashes\n",
      "@app.route(\"/path/<path:value>\")\n",
      "def path_type(value):\n",
      "    print value\n",
      "    return \"correct\"\n",
      "\n",
      "@app.route(\"/name/<name>\")\n",
      "def index(name):\n",
      "    if name.lower() == \"michael\":\n",
      "        #return \"Hello, {}\".format(name), 200 # pushing the status code \n",
      "        return \"Hello, {}\".format(name)\n",
      "    else :\n",
      "        return \"Not Found\", 404"
     ],
     "language": "python",
     "metadata": {},
     "outputs": [],
     "prompt_number": 3
    },
    {
     "cell_type": "code",
     "collapsed": false,
     "input": [
      "if __name__ == \"__main__\":\n",
      "    app.run()"
     ],
     "language": "python",
     "metadata": {},
     "outputs": []
    },
    {
     "cell_type": "code",
     "collapsed": false,
     "input": [],
     "language": "python",
     "metadata": {},
     "outputs": []
    }
   ],
   "metadata": {}
  }
 ]
}