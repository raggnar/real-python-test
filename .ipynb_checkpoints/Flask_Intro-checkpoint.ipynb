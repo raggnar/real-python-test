{
 "metadata": {
  "name": "",
  "signature": "sha256:01196bbc4d768a4a683558c3a02363119582822e47627c80b6f503634cf91b73"
 },
 "nbformat": 3,
 "nbformat_minor": 0,
 "worksheets": []
}